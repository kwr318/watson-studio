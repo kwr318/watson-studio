{
    "nbformat_minor": 1, 
    "cells": [
        {
            "source": "import pandas as pd\nimport numpy as np\nimport matplotlib.pyplot as plt\nimport matplotlib.dates as mdates", 
            "cell_type": "code", 
            "metadata": {}, 
            "outputs": [], 
            "execution_count": 1
        }, 
        {
            "source": "## Issue:\nAccidently deleted my cvs file in Cloud Object Storage (COS). \n## Solution:\nREF: https://developer.ibm.com/tutorials/ibm-cloud-object-storage-usage-ibm-datascience-experience/\nTrying the code found at the above ", 
            "cell_type": "markdown", 
            "metadata": {}
        }, 
        {
            "source": "import ibm_boto3\nfrom botocore.client import Config\n\ndef get_file(creds, filename):\n    '''Retrieve file from Cloud Object Storage'''\n    fileobject = cos.get_object(Bucket=creds['BUCKET'], Key=filename)['Body']\n    return fileobject", 
            "cell_type": "code", 
            "metadata": {}, 
            "outputs": [], 
            "execution_count": 2
        }, 
        {
            "source": "\n# @hidden_cell\n# The following code contains the credentials for a file in your IBM Cloud Object Storage.\n# You might want to remove those credentials before you share your notebook.\ncredentials_1 = {\n    'IAM_SERVICE_ID': 'iam-ServiceId-a1273c93-34b7-4078-a55d-3a56b1f3911c',\n    'IBM_API_KEY_ID': 'q2oBxlBLT2pIRSjM0ra7WrLhLDvHi6qco1LSvWz6Ms5F',\n    'ENDPOINT': 'https://s3-api.us-geo.objectstorage.service.networklayer.com',\n    'IBM_AUTH_ENDPOINT': 'https://iam.ng.bluemix.net/oidc/token',\n    'BUCKET': 'speedtest-donotdelete-pr-xra6wuir8nxwic',\n    'FILE': 'kl2-runst.log'\n}", 
            "cell_type": "code", 
            "metadata": {}, 
            "outputs": [], 
            "execution_count": 3
        }, 
        {
            "source": "cos = ibm_boto3.client('s3',\n                       ibm_api_key_id=credentials_1['IBM_API_KEY_ID'],\n                       ibm_service_instance_id=credentials_1['IAM_SERVICE_ID'],\n                       ibm_auth_endpoint=credentials_1['IBM_AUTH_ENDPOINT'],\n                       config=Config(signature_version='oauth'),\n                       endpoint_url=credentials_1['ENDPOINT'])\nfile_obj = get_file(credentials_1, credentials_1['FILE'])\nfile_obj", 
            "cell_type": "code", 
            "metadata": {
                "scrolled": true
            }, 
            "outputs": [
                {
                    "output_type": "execute_result", 
                    "data": {
                        "text/plain": "<ibm_botocore.response.StreamingBody at 0x7f919f2d5e10>"
                    }, 
                    "execution_count": 4, 
                    "metadata": {}
                }
            ], 
            "execution_count": 4
        }, 
        {
            "source": "# @hidden_cell\n# The project token is an authorization token that is used to access project resources like data sources, connections, and used by platform APIs.\n#from project_lib import Project\n#project = Project(project_id='468e3940-1683-4566-a27d-4f002fb9ed5d', project_access_token='p-90020b8554784790592bca737622d5674020e767')\n#pc = project.project_context\n#\n#print('Project Name: {0}'.format(project.get_name()))\n#print('Project Description: {0}'.format(project.get_description()))\n#print('Project Bucket Name: {0}'.format(project.get_project_bucket_name()))\n#print('Project Assets (Connections): {0}'.format(project.get_assets()))\n#\n# project.get_files()\n# Out: [{'name': 'kl2-runst.log', 'asset_id': 'a36d4753-1fe7-4d3a-b7d8-833feab59c34'}]\n#\n#CSV_FILE = project.get_file('kl2-runst.log')\n#file_obj = CSV_FILE[0]\n#file_stream = file_obj['file_content']\n# pd.read_csv(file_stream, nrows=10)\n#", 
            "cell_type": "code", 
            "metadata": {}, 
            "outputs": [], 
            "execution_count": 5
        }, 
        {
            "source": "RAW_COLS1 = [ 'timestamp', 'host','isp1', 'isp2', 'distance', 'dim1', 'latency','dl-speed', 'dim2', 'up-speed', 'dim3' ]\nRAW_COLS2 = [ 'timestamp', 'host', 'distance', 'latency','dl-speed', 'up-speed' ]", 
            "cell_type": "code", 
            "metadata": {}, 
            "outputs": [], 
            "execution_count": 6
        }, 
        {
            "source": "df = pd.read_csv(file_obj, header=None, usecols=[0,1,4,6,7,9], names=RAW_COLS2)\ndf.columns", 
            "cell_type": "code", 
            "metadata": {}, 
            "outputs": [
                {
                    "output_type": "execute_result", 
                    "data": {
                        "text/plain": "Index(['timestamp', 'host', 'distance', 'latency', 'dl-speed', 'up-speed'], dtype='object')"
                    }, 
                    "execution_count": 7, 
                    "metadata": {}
                }
            ], 
            "execution_count": 7
        }, 
        {
            "source": "df.timestamp = df.timestamp.str.slice(0, 10)\ndf.head(10)", 
            "cell_type": "code", 
            "metadata": {}, 
            "outputs": [
                {
                    "output_type": "execute_result", 
                    "data": {
                        "text/html": "<div>\n<style scoped>\n    .dataframe tbody tr th:only-of-type {\n        vertical-align: middle;\n    }\n\n    .dataframe tbody tr th {\n        vertical-align: top;\n    }\n\n    .dataframe thead th {\n        text-align: right;\n    }\n</style>\n<table border=\"1\" class=\"dataframe\">\n  <thead>\n    <tr style=\"text-align: right;\">\n      <th></th>\n      <th>timestamp</th>\n      <th>host</th>\n      <th>distance</th>\n      <th>latency</th>\n      <th>dl-speed</th>\n      <th>up-speed</th>\n    </tr>\n  </thead>\n  <tbody>\n    <tr>\n      <th>0</th>\n      <td>2019-07-11</td>\n      <td>kwrlinux2</td>\n      <td>68.85</td>\n      <td>53.789</td>\n      <td>27.14</td>\n      <td>73.08</td>\n    </tr>\n    <tr>\n      <th>1</th>\n      <td>2019-07-11</td>\n      <td>kwrlinux2</td>\n      <td>104.21</td>\n      <td>42.780</td>\n      <td>55.88</td>\n      <td>74.59</td>\n    </tr>\n    <tr>\n      <th>2</th>\n      <td>2019-07-11</td>\n      <td>kwrlinux2</td>\n      <td>104.21</td>\n      <td>21.845</td>\n      <td>63.75</td>\n      <td>87.59</td>\n    </tr>\n    <tr>\n      <th>3</th>\n      <td>2019-07-11</td>\n      <td>kwrlinux2</td>\n      <td>104.21</td>\n      <td>25.485</td>\n      <td>56.18</td>\n      <td>70.81</td>\n    </tr>\n    <tr>\n      <th>4</th>\n      <td>2019-07-11</td>\n      <td>kwrlinux2</td>\n      <td>111.03</td>\n      <td>32.346</td>\n      <td>28.47</td>\n      <td>74.18</td>\n    </tr>\n    <tr>\n      <th>5</th>\n      <td>2019-07-11</td>\n      <td>kwrlinux2</td>\n      <td>111.03</td>\n      <td>28.192</td>\n      <td>38.22</td>\n      <td>89.58</td>\n    </tr>\n    <tr>\n      <th>6</th>\n      <td>2019-07-11</td>\n      <td>kwrlinux2</td>\n      <td>111.03</td>\n      <td>30.715</td>\n      <td>21.53</td>\n      <td>77.46</td>\n    </tr>\n    <tr>\n      <th>7</th>\n      <td>2019-07-11</td>\n      <td>kwrlinux2</td>\n      <td>104.21</td>\n      <td>27.000</td>\n      <td>69.32</td>\n      <td>87.53</td>\n    </tr>\n    <tr>\n      <th>8</th>\n      <td>2019-07-11</td>\n      <td>kwrlinux2</td>\n      <td>104.21</td>\n      <td>21.536</td>\n      <td>55.40</td>\n      <td>78.57</td>\n    </tr>\n    <tr>\n      <th>9</th>\n      <td>2019-07-11</td>\n      <td>kwrlinux2</td>\n      <td>104.21</td>\n      <td>21.464</td>\n      <td>92.61</td>\n      <td>92.91</td>\n    </tr>\n  </tbody>\n</table>\n</div>", 
                        "text/plain": "    timestamp       host  distance  latency  dl-speed  up-speed\n0  2019-07-11  kwrlinux2     68.85   53.789     27.14     73.08\n1  2019-07-11  kwrlinux2    104.21   42.780     55.88     74.59\n2  2019-07-11  kwrlinux2    104.21   21.845     63.75     87.59\n3  2019-07-11  kwrlinux2    104.21   25.485     56.18     70.81\n4  2019-07-11  kwrlinux2    111.03   32.346     28.47     74.18\n5  2019-07-11  kwrlinux2    111.03   28.192     38.22     89.58\n6  2019-07-11  kwrlinux2    111.03   30.715     21.53     77.46\n7  2019-07-11  kwrlinux2    104.21   27.000     69.32     87.53\n8  2019-07-11  kwrlinux2    104.21   21.536     55.40     78.57\n9  2019-07-11  kwrlinux2    104.21   21.464     92.61     92.91"
                    }, 
                    "execution_count": 8, 
                    "metadata": {}
                }
            ], 
            "execution_count": 8
        }, 
        {
            "source": "df.timestamp = df.timestamp.str.slice(0, 10)", 
            "cell_type": "code", 
            "metadata": {}, 
            "outputs": [], 
            "execution_count": 9
        }, 
        {
            "source": "only2019 = df.loc[df.timestamp.str.startswith('2019', na=False)]\nonly2019.head(10)", 
            "cell_type": "code", 
            "metadata": {
                "scrolled": true
            }, 
            "outputs": [
                {
                    "output_type": "execute_result", 
                    "data": {
                        "text/html": "<div>\n<style scoped>\n    .dataframe tbody tr th:only-of-type {\n        vertical-align: middle;\n    }\n\n    .dataframe tbody tr th {\n        vertical-align: top;\n    }\n\n    .dataframe thead th {\n        text-align: right;\n    }\n</style>\n<table border=\"1\" class=\"dataframe\">\n  <thead>\n    <tr style=\"text-align: right;\">\n      <th></th>\n      <th>timestamp</th>\n      <th>host</th>\n      <th>distance</th>\n      <th>latency</th>\n      <th>dl-speed</th>\n      <th>up-speed</th>\n    </tr>\n  </thead>\n  <tbody>\n    <tr>\n      <th>0</th>\n      <td>2019-07-11</td>\n      <td>kwrlinux2</td>\n      <td>68.85</td>\n      <td>53.789</td>\n      <td>27.14</td>\n      <td>73.08</td>\n    </tr>\n    <tr>\n      <th>1</th>\n      <td>2019-07-11</td>\n      <td>kwrlinux2</td>\n      <td>104.21</td>\n      <td>42.780</td>\n      <td>55.88</td>\n      <td>74.59</td>\n    </tr>\n    <tr>\n      <th>2</th>\n      <td>2019-07-11</td>\n      <td>kwrlinux2</td>\n      <td>104.21</td>\n      <td>21.845</td>\n      <td>63.75</td>\n      <td>87.59</td>\n    </tr>\n    <tr>\n      <th>3</th>\n      <td>2019-07-11</td>\n      <td>kwrlinux2</td>\n      <td>104.21</td>\n      <td>25.485</td>\n      <td>56.18</td>\n      <td>70.81</td>\n    </tr>\n    <tr>\n      <th>4</th>\n      <td>2019-07-11</td>\n      <td>kwrlinux2</td>\n      <td>111.03</td>\n      <td>32.346</td>\n      <td>28.47</td>\n      <td>74.18</td>\n    </tr>\n    <tr>\n      <th>5</th>\n      <td>2019-07-11</td>\n      <td>kwrlinux2</td>\n      <td>111.03</td>\n      <td>28.192</td>\n      <td>38.22</td>\n      <td>89.58</td>\n    </tr>\n    <tr>\n      <th>6</th>\n      <td>2019-07-11</td>\n      <td>kwrlinux2</td>\n      <td>111.03</td>\n      <td>30.715</td>\n      <td>21.53</td>\n      <td>77.46</td>\n    </tr>\n    <tr>\n      <th>7</th>\n      <td>2019-07-11</td>\n      <td>kwrlinux2</td>\n      <td>104.21</td>\n      <td>27.000</td>\n      <td>69.32</td>\n      <td>87.53</td>\n    </tr>\n    <tr>\n      <th>8</th>\n      <td>2019-07-11</td>\n      <td>kwrlinux2</td>\n      <td>104.21</td>\n      <td>21.536</td>\n      <td>55.40</td>\n      <td>78.57</td>\n    </tr>\n    <tr>\n      <th>9</th>\n      <td>2019-07-11</td>\n      <td>kwrlinux2</td>\n      <td>104.21</td>\n      <td>21.464</td>\n      <td>92.61</td>\n      <td>92.91</td>\n    </tr>\n  </tbody>\n</table>\n</div>", 
                        "text/plain": "    timestamp       host  distance  latency  dl-speed  up-speed\n0  2019-07-11  kwrlinux2     68.85   53.789     27.14     73.08\n1  2019-07-11  kwrlinux2    104.21   42.780     55.88     74.59\n2  2019-07-11  kwrlinux2    104.21   21.845     63.75     87.59\n3  2019-07-11  kwrlinux2    104.21   25.485     56.18     70.81\n4  2019-07-11  kwrlinux2    111.03   32.346     28.47     74.18\n5  2019-07-11  kwrlinux2    111.03   28.192     38.22     89.58\n6  2019-07-11  kwrlinux2    111.03   30.715     21.53     77.46\n7  2019-07-11  kwrlinux2    104.21   27.000     69.32     87.53\n8  2019-07-11  kwrlinux2    104.21   21.536     55.40     78.57\n9  2019-07-11  kwrlinux2    104.21   21.464     92.61     92.91"
                    }, 
                    "execution_count": 10, 
                    "metadata": {}
                }
            ], 
            "execution_count": 10
        }, 
        {
            "source": "# t = only2019.groupby(only2019['timestamp']).size().plot()\nt = only2019.groupby(only2019['timestamp']).size()\nt.index = pd.to_datetime(t.index)\n#####\n##### https://www.earthdatascience.org/courses/earth-analytics-python/use-time-series-data-in-python/customize-dates--matplotlib-plots-python/\n# Define the date format\nfrom matplotlib.dates import DateFormatter\nimport matplotlib.dates as mdates\n\n# Need the follow because plot gave a warning about something becoming deprecated.\nfrom pandas.plotting import register_matplotlib_converters\nregister_matplotlib_converters()\nmyFmt = DateFormatter(\"%m/%d\") \n\n# plot the data\nfig, ax = plt.subplots()\nax.plot(t.index, \n       t.values,\n       color='purple')\nax.set(xlabel=\"Date\", ylabel=\"Number of observations\")\nax.set(title=\"kwrlinux2 speedtest results\")\nax.grid()\n\n# tell matplotlib to use the format specified above\nax.xaxis.set_major_formatter(myFmt) \nax.xaxis.set_minor_locator(mdates.DayLocator())\n", 
            "cell_type": "code", 
            "metadata": {
                "scrolled": true
            }, 
            "outputs": [
                {
                    "output_type": "display_data", 
                    "data": {
                        "image/png": "[encoded data removed]", 
                        "text/plain": "<Figure size 432x288 with 1 Axes>"
                    }, 
                    "metadata": {
                        "needs_background": "light"
                    }
                }
            ], 
            "execution_count": 11
        }, 
        {
            "source": "only2019.groupby(only2019['timestamp']).size()", 
            "cell_type": "code", 
            "metadata": {}, 
            "outputs": [
                {
                    "output_type": "execute_result", 
                    "data": {
                        "text/plain": "timestamp\n2019-07-11    24\n2019-07-12    93\n2019-07-13    94\n2019-07-14    93\n2019-07-15    93\n2019-07-16    94\n2019-07-17    93\n2019-07-18    94\n2019-07-19    93\n2019-07-20    93\n2019-07-21    94\n2019-07-22    93\n2019-07-23    94\n2019-07-24    54\ndtype: int64"
                    }, 
                    "execution_count": 12, 
                    "metadata": {}
                }
            ], 
            "execution_count": 12
        }, 
        {
            "source": "", 
            "cell_type": "code", 
            "metadata": {}, 
            "outputs": [], 
            "execution_count": null
        }
    ], 
    "metadata": {
        "kernelspec": {
            "display_name": "Python 3.6", 
            "name": "python3", 
            "language": "python"
        }, 
        "language_info": {
            "mimetype": "text/x-python", 
            "nbconvert_exporter": "python", 
            "version": "3.6.8", 
            "name": "python", 
            "pygments_lexer": "ipython3", 
            "file_extension": ".py", 
            "codemirror_mode": {
                "version": 3, 
                "name": "ipython"
            }
        }
    }, 
    "nbformat": 4
}